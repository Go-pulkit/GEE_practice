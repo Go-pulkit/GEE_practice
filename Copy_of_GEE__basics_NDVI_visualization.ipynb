{
  "nbformat": 4,
  "nbformat_minor": 0,
  "metadata": {
    "colab": {
      "name": "Copy of GEE__basics_practice_visualization.ipynb",
      "provenance": [],
      "collapsed_sections": [],
      "authorship_tag": "ABX9TyMTupsVpKZJGDdf0GkXAnP+",
      "include_colab_link": true
    },
    "kernelspec": {
      "name": "python3",
      "display_name": "Python 3"
    },
    "language_info": {
      "name": "python"
    }
  },
  "cells": [
    {
      "cell_type": "markdown",
      "metadata": {
        "id": "view-in-github",
        "colab_type": "text"
      },
      "source": [
        "<a href=\"https://colab.research.google.com/github/Go-pulkit/GEE_practice/blob/main/Copy_of_GEE__basics_NDVI_visualization.ipynb\" target=\"_parent\"><img src=\"https://colab.research.google.com/assets/colab-badge.svg\" alt=\"Open In Colab\"/></a>"
      ]
    },
    {
      "cell_type": "markdown",
      "metadata": {
        "id": "Q_jKf8U-nDha"
      },
      "source": [
        "This is my second hands on experience with GEE Python API.\n",
        "In this, I shall be importing a DEM dataset and Global Forest cover dataset to make a primary visual assessment of the Andean Region. \n",
        "In the coming days, i shall extend this to more sophisticated analysis."
      ]
    },
    {
      "cell_type": "markdown",
      "metadata": {
        "id": "O7_mIRrmniHj"
      },
      "source": [
        "Step 1: Let's import and initialize the EE Python API"
      ]
    },
    {
      "cell_type": "code",
      "metadata": {
        "colab": {
          "base_uri": "https://localhost:8080/"
        },
        "id": "LRFyekeSm7st",
        "outputId": "b5ac4f13-9346-4d14-d330-91d68dc38c41"
      },
      "source": [
        "import ee\n",
        "\n",
        "ee.Authenticate()"
      ],
      "execution_count": 3,
      "outputs": [
        {
          "output_type": "stream",
          "name": "stdout",
          "text": [
            "To authorize access needed by Earth Engine, open the following URL in a web browser and follow the instructions. If the web browser does not start automatically, please manually browse the URL below.\n",
            "\n",
            "    https://accounts.google.com/o/oauth2/auth?client_id=517222506229-vsmmajv00ul0bs7p89v5m89qs8eb9359.apps.googleusercontent.com&scope=https%3A%2F%2Fwww.googleapis.com%2Fauth%2Fearthengine+https%3A%2F%2Fwww.googleapis.com%2Fauth%2Fdevstorage.full_control&redirect_uri=urn%3Aietf%3Awg%3Aoauth%3A2.0%3Aoob&response_type=code&code_challenge=eorP3F5GMMxWowwiRDXGQ0wAPM5wJDJlKZTc83Xna8s&code_challenge_method=S256\n",
            "\n",
            "The authorization workflow will generate a code, which you should paste in the box below. \n",
            "Enter verification code: 4/1AX4XfWisV_g-VEhgMBV1s72yCr1AhZqnBXSOs-8rSQF6ND86FpAuTq-2QJ0\n",
            "\n",
            "Successfully saved authorization token.\n"
          ]
        }
      ]
    },
    {
      "cell_type": "code",
      "metadata": {
        "id": "ykPGjvq-n9KJ"
      },
      "source": [
        "#After succesful authentication, we can initialize the API to start working.\n",
        "ee.Initialize()"
      ],
      "execution_count": 32,
      "outputs": []
    },
    {
      "cell_type": "markdown",
      "metadata": {
        "id": "tYYosb8dY0QJ"
      },
      "source": [
        "Get the coordinates of our area of interest\n"
      ]
    },
    {
      "cell_type": "code",
      "metadata": {
        "id": "xmBqD6V_BxmS"
      },
      "source": [
        "geojson ={\n",
        "  \"type\": \"FeatureCollection\",\n",
        "  \"features\": [\n",
        "    {\n",
        "      \"type\": \"Feature\",\n",
        "      \"properties\": {},\n",
        "      \"geometry\": {\n",
        "        \"type\": \"Polygon\",\n",
        "        \"coordinates\": [\n",
        "          [\n",
        "            [\n",
        "              -83.671875,\n",
        "              -54.05938788662357\n",
        "            ],\n",
        "            [\n",
        "              -35.33203125,\n",
        "              -54.87660665410867\n",
        "            ],\n",
        "            [\n",
        "              -33.39843750000001,\n",
        "              -8.233237111274553\n",
        "            ],\n",
        "            [\n",
        "              -36.2109375,\n",
        "              12.039320557540572\n",
        "            ],\n",
        "            [\n",
        "              -83.671875,\n",
        "              12.382928338487408\n",
        "            ],\n",
        "            [\n",
        "              -83.671875,\n",
        "              -54.05938788662357\n",
        "            ]\n",
        "          ]\n",
        "        ]\n",
        "      }\n",
        "    }\n",
        "  ]\n",
        "}"
      ],
      "execution_count": 33,
      "outputs": []
    },
    {
      "cell_type": "code",
      "metadata": {
        "id": "W1qELwhjBxyU"
      },
      "source": [
        "coords = geojson['features'][0]['geometry']['coordinates']\n",
        "aoi = ee.Geometry.Polygon(coords)"
      ],
      "execution_count": 34,
      "outputs": []
    },
    {
      "cell_type": "markdown",
      "metadata": {
        "id": "Ifth9TzKY7vL"
      },
      "source": [
        "Import SRTM dataset and clip it to AOI "
      ]
    },
    {
      "cell_type": "code",
      "metadata": {
        "id": "yb988y89n9Mk"
      },
      "source": [
        "dem = ee.Image('USGS/SRTMGL1_003').clip(aoi)"
      ],
      "execution_count": 35,
      "outputs": []
    },
    {
      "cell_type": "markdown",
      "metadata": {
        "id": "3OzDpOX9ZDAp"
      },
      "source": [
        "Mask our DEM to greater than 1800 meters and set it up for visualization"
      ]
    },
    {
      "cell_type": "code",
      "metadata": {
        "colab": {
          "base_uri": "https://localhost:8080/"
        },
        "id": "gmwlSxqOuODw",
        "outputId": "421c767f-6066-4d2a-9685-dd46dab7c0cd"
      },
      "source": [
        "# Make pixels with elevation below sea level transparent.\n",
        "elv_img = dem.updateMask(dem.gt(1800))\n",
        "print(elv_img.getInfo())\n",
        "# Display the thumbnail of styled elevation in France.\n",
        "elevis = {\n",
        "    'min': 1800, 'max': 8000,\n",
        "    'palette': ['006633', 'E5FFCC', '662A00', 'D8D8D8', 'F5F5F5']}\n",
        "\n",
        "rgb = elv_img.visualize(**elevis) \n",
        "url = rgb.getThumbURL({'dimensions': 512})\n",
        "print(url)    "
      ],
      "execution_count": 36,
      "outputs": [
        {
          "output_type": "stream",
          "name": "stdout",
          "text": [
            "{'type': 'Image', 'bands': [{'id': 'elevation', 'data_type': {'type': 'PixelType', 'precision': 'int', 'min': -32768, 'max': 32767}, 'dimensions': [180986, 249508], 'origin': [346781, 168093], 'crs': 'EPSG:4326', 'crs_transform': [0.0002777777777777778, 0, -180.0001388888889, 0, -0.0002777777777777778, 60.00013888888889]}], 'id': 'USGS/SRTMGL1_003', 'version': 1641990767055141, 'properties': {'system:footprint': {'type': 'Polygon', 'coordinates': [[[-83.671875, -54.05938788662357], [-35.33203125, -54.87660665410867], [-33.39843750000001, -8.233237111274553], [-36.2109375, 12.039320557540572], [-83.671875, 12.382928338487408], [-83.671875, -54.05938788662357]]]}, 'system:visualization_0_min': '0.0', 'type_name': 'Image', 'keywords': ['dem', 'elevation', 'geophysical', 'nasa', 'srtm', 'topography', 'usgs'], 'thumb': 'https://mw1.google.com/ges/dd/images/SRTM90_V4_thumb.png', 'description': '<p>The Shuttle Radar Topography Mission (SRTM, see <a href=\"https://onlinelibrary.wiley.com/doi/10.1029/2005RG000183/full\">Farr\\net al. 2007</a>)\\ndigital elevation data is an international research effort that\\nobtained digital elevation models on a near-global scale. This\\nSRTM V3 product (SRTM Plus) is provided by NASA JPL\\nat a resolution of 1 arc-second (approximately 30m).</p><p>This dataset has undergone a void-filling process using open-source data\\n(ASTER GDEM2, GMTED2010, and NED), as opposed to other versions that\\ncontain voids or have been void-filled with commercial sources.\\nFor more information on the different versions see the\\n<a href=\"https://lpdaac.usgs.gov/documents/13/SRTM_Quick_Guide.pdf\">SRTM Quick Guide</a>.</p><p>Documentation:</p><ul><li><p><a href=\"https://lpdaac.usgs.gov/documents/179/SRTM_User_Guide_V3.pdf\">User&#39;s Guide</a></p></li><li><p><a href=\"https://lpdaac.usgs.gov/documents/13/SRTM_Quick_Guide.pdf\">General Documentation</a></p></li><li><p><a href=\"https://doi.org/10.1029/2005RG000183\">Algorithm Theoretical Basis Document (ATBD)</a></p></li></ul><p><b>Provider: <a href=\"https://cmr.earthdata.nasa.gov/search/concepts/C1000000240-LPDAAC_ECS.html\">NASA / USGS / JPL-Caltech</a></b><br><p><b>Bands</b><table class=\"eecat\"><tr><th scope=\"col\">Name</th><th scope=\"col\">Description</th></tr><tr><td>elevation</td><td><p>Elevation</p></td></tr></table><p><b>Terms of Use</b><br><p>Unless otherwise noted, images and video on JPL public\\nweb sites (public sites ending with a jpl.nasa.gov address) may\\nbe used for any purpose without prior permission. For more information\\nand exceptions visit the <a href=\"https://www.jpl.nasa.gov/imagepolicy/\">JPL Image Use Policy site</a>.</p><p><b>Suggested citation(s)</b><ul><li><p>Farr, T.G., Rosen, P.A., Caro, E., Crippen, R., Duren, R., Hensley,\\nS., Kobrick, M., Paller, M., Rodriguez, E., Roth, L., Seal, D.,\\nShaffer, S., Shimada, J., Umland, J., Werner, M., Oskin, M., Burbank,\\nD., and Alsdorf, D.E., 2007, The shuttle radar topography mission:\\nReviews of Geophysics, v. 45, no. 2, RG2004, at\\n<a href=\"https://doi.org/10.1029/2005RG000183\">https://doi.org/10.1029/2005RG000183</a>.</p></li></ul><style>\\n  table.eecat {\\n  border: 1px solid black;\\n  border-collapse: collapse;\\n  font-size: 13px;\\n  }\\n  table.eecat td, tr, th {\\n  text-align: left; vertical-align: top;\\n  border: 1px solid gray; padding: 3px;\\n  }\\n  td.nobreak { white-space: nowrap; }\\n</style>', 'source_tags': ['nasa', 'usgs'], 'visualization_0_max': '6000.0', 'title': 'NASA SRTM Digital Elevation 30m', 'product_tags': ['srtm', 'elevation', 'topography', 'dem', 'geophysical'], 'provider': 'NASA / USGS / JPL-Caltech', 'visualization_0_min': '0.0', 'visualization_0_name': 'Elevation', 'date_range': [950227200000, 951177600000], 'system:visualization_0_gamma': '1.6', 'period': 0, 'system:visualization_0_bands': 'elevation', 'provider_url': 'https://cmr.earthdata.nasa.gov/search/concepts/C1000000240-LPDAAC_ECS.html', 'visualization_0_gamma': '1.6', 'sample': 'https://mw1.google.com/ges/dd/images/SRTM90_V4_sample.png', 'tags': ['dem', 'elevation', 'geophysical', 'nasa', 'srtm', 'topography', 'usgs'], 'system:visualization_0_max': '6000.0', 'system:visualization_0_name': 'Elevation', 'system:asset_size': 132792638252, 'visualization_0_bands': 'elevation'}}\n",
            "https://earthengine.googleapis.com/v1alpha/projects/earthengine-legacy/thumbnails/22523b6fff7241c1b70ac745a9cdc574-1654cc09e9408984795752a927dd01aa:getPixels\n"
          ]
        }
      ]
    },
    {
      "cell_type": "code",
      "metadata": {
        "id": "remCJQq-sKzb"
      },
      "source": [
        "import folium\n",
        "\n",
        "# Define the center of our map.\n",
        "lat, lon = -32.338200, -70.051575\n"
      ],
      "execution_count": 37,
      "outputs": []
    },
    {
      "cell_type": "markdown",
      "metadata": {
        "id": "F00pXPE6ZNhd"
      },
      "source": [
        "Add a foilum visualization method"
      ]
    },
    {
      "cell_type": "code",
      "metadata": {
        "id": "pTAbddXmKkVj"
      },
      "source": [
        "# Define a method for displaying Earth Engine image tiles on a folium map.\n",
        "def add_ee_layer(self, ee_object, vis_params, name):\n",
        "    \n",
        "    try:    \n",
        "        # display ee.Image()\n",
        "        if isinstance(ee_object, ee.image.Image):    \n",
        "            map_id_dict = ee.Image(ee_object).getMapId(vis_params)\n",
        "            folium.raster_layers.TileLayer(\n",
        "            tiles = map_id_dict['tile_fetcher'].url_format,\n",
        "            attr = 'Google Earth Engine',\n",
        "            name = name,\n",
        "            overlay = True,\n",
        "            control = True\n",
        "            ).add_to(self)\n",
        "        # display ee.ImageCollection()\n",
        "        elif isinstance(ee_object, ee.imagecollection.ImageCollection):    \n",
        "            ee_object_new = ee_object.mosaic()\n",
        "            map_id_dict = ee.Image(ee_object_new).getMapId(vis_params)\n",
        "            folium.raster_layers.TileLayer(\n",
        "            tiles = map_id_dict['tile_fetcher'].url_format,\n",
        "            attr = 'Google Earth Engine',\n",
        "            name = name,\n",
        "            overlay = True,\n",
        "            control = True\n",
        "            ).add_to(self)\n",
        "        # display ee.Geometry()\n",
        "        elif isinstance(ee_object, ee.geometry.Geometry):    \n",
        "            folium.GeoJson(\n",
        "            data = ee_object.getInfo(),\n",
        "            name = name,\n",
        "            overlay = True,\n",
        "            control = True\n",
        "        ).add_to(self)\n",
        "        # display ee.FeatureCollection()\n",
        "        elif isinstance(ee_object, ee.featurecollection.FeatureCollection):  \n",
        "            ee_object_new = ee.Image().paint(ee_object, 0, 2)\n",
        "            map_id_dict = ee.Image(ee_object_new).getMapId(vis_params)\n",
        "            folium.raster_layers.TileLayer(\n",
        "            tiles = map_id_dict['tile_fetcher'].url_format,\n",
        "            attr = 'Google Earth Engine',\n",
        "            name = name,\n",
        "            overlay = True,\n",
        "            control = True\n",
        "        ).add_to(self)\n",
        "    \n",
        "    except:\n",
        "        print(\"Could not display {}\".format(name))\n",
        "    \n",
        "# Add EE drawing method to folium.\n",
        "folium.Map.add_ee_layer = add_ee_layer"
      ],
      "execution_count": 38,
      "outputs": []
    },
    {
      "cell_type": "markdown",
      "metadata": {
        "id": "EIY7lhxjZhc_"
      },
      "source": [
        "Create a folium map instance for elevation and hillshade visualization"
      ]
    },
    {
      "cell_type": "code",
      "metadata": {
        "id": "SYHgoMOUsK5D"
      },
      "source": [
        "my_map = folium.Map(location=[lat, lon], zoom_start=7)"
      ],
      "execution_count": 39,
      "outputs": []
    },
    {
      "cell_type": "markdown",
      "metadata": {
        "id": "F9cu6-joZoOo"
      },
      "source": [
        "create hillshade"
      ]
    },
    {
      "cell_type": "code",
      "metadata": {
        "id": "niYXI6SpfjyQ"
      },
      "source": [
        "exaggeration = 5\n",
        "hillshade = ee.Terrain.hillshade(elv_img.multiply(exaggeration))\n",
        "hillvis = {'palette': ['006633', 'E5FFCC', '662A00', 'D8D8D8', 'F5F5F5']}"
      ],
      "execution_count": 40,
      "outputs": []
    },
    {
      "cell_type": "markdown",
      "metadata": {
        "id": "rcBMYY3HZqfT"
      },
      "source": [
        "Visualize"
      ]
    },
    {
      "cell_type": "code",
      "metadata": {
        "colab": {
          "base_uri": "https://localhost:8080/",
          "height": 763
        },
        "id": "Wga500Q6sK7j",
        "outputId": "4ad6f800-1a89-4017-e013-45fae69c6688"
      },
      "source": [
        "\n",
        "\n",
        "my_map.add_ee_layer(elv_img, elevis, 'Elevation')\n",
        "my_map.add_ee_layer(hillshade, hillvis, 'Hillshade')\n",
        "\n",
        "# Add a layer control panel to the map.\n",
        "my_map.add_child(folium.LayerControl())\n",
        "\n",
        "# Display the map.\n",
        "display(my_map)"
      ],
      "execution_count": 41,
      "outputs": [
        {
          "output_type": "display_data",
          "data": {
            "text/html": [
              "<div style=\"width:100%;\"><div style=\"position:relative;width:100%;height:0;padding-bottom:60%;\"><span style=\"color:#565656\">Make this Notebook Trusted to load map: File -> Trust Notebook</span><iframe src=\"about:blank\" style=\"position:absolute;width:100%;height:100%;left:0;top:0;border:none !important;\" data-html=%3C%21DOCTYPE%20html%3E%0A%3Chead%3E%20%20%20%20%0A%20%20%20%20%3Cmeta%20http-equiv%3D%22content-type%22%20content%3D%22text/html%3B%20charset%3DUTF-8%22%20/%3E%0A%20%20%20%20%3Cscript%3EL_PREFER_CANVAS%3Dfalse%3B%20L_NO_TOUCH%3Dfalse%3B%20L_DISABLE_3D%3Dfalse%3B%3C/script%3E%0A%20%20%20%20%3Cscript%20src%3D%22https%3A//cdn.jsdelivr.net/npm/leaflet%401.4.0/dist/leaflet.js%22%3E%3C/script%3E%0A%20%20%20%20%3Cscript%20src%3D%22https%3A//code.jquery.com/jquery-1.12.4.min.js%22%3E%3C/script%3E%0A%20%20%20%20%3Cscript%20src%3D%22https%3A//maxcdn.bootstrapcdn.com/bootstrap/3.2.0/js/bootstrap.min.js%22%3E%3C/script%3E%0A%20%20%20%20%3Cscript%20src%3D%22https%3A//cdnjs.cloudflare.com/ajax/libs/Leaflet.awesome-markers/2.0.2/leaflet.awesome-markers.js%22%3E%3C/script%3E%0A%20%20%20%20%3Clink%20rel%3D%22stylesheet%22%20href%3D%22https%3A//cdn.jsdelivr.net/npm/leaflet%401.4.0/dist/leaflet.css%22/%3E%0A%20%20%20%20%3Clink%20rel%3D%22stylesheet%22%20href%3D%22https%3A//maxcdn.bootstrapcdn.com/bootstrap/3.2.0/css/bootstrap.min.css%22/%3E%0A%20%20%20%20%3Clink%20rel%3D%22stylesheet%22%20href%3D%22https%3A//maxcdn.bootstrapcdn.com/bootstrap/3.2.0/css/bootstrap-theme.min.css%22/%3E%0A%20%20%20%20%3Clink%20rel%3D%22stylesheet%22%20href%3D%22https%3A//maxcdn.bootstrapcdn.com/font-awesome/4.6.3/css/font-awesome.min.css%22/%3E%0A%20%20%20%20%3Clink%20rel%3D%22stylesheet%22%20href%3D%22https%3A//cdnjs.cloudflare.com/ajax/libs/Leaflet.awesome-markers/2.0.2/leaflet.awesome-markers.css%22/%3E%0A%20%20%20%20%3Clink%20rel%3D%22stylesheet%22%20href%3D%22https%3A//rawcdn.githack.com/python-visualization/folium/master/folium/templates/leaflet.awesome.rotate.css%22/%3E%0A%20%20%20%20%3Cstyle%3Ehtml%2C%20body%20%7Bwidth%3A%20100%25%3Bheight%3A%20100%25%3Bmargin%3A%200%3Bpadding%3A%200%3B%7D%3C/style%3E%0A%20%20%20%20%3Cstyle%3E%23map%20%7Bposition%3Aabsolute%3Btop%3A0%3Bbottom%3A0%3Bright%3A0%3Bleft%3A0%3B%7D%3C/style%3E%0A%20%20%20%20%0A%20%20%20%20%3Cmeta%20name%3D%22viewport%22%20content%3D%22width%3Ddevice-width%2C%0A%20%20%20%20%20%20%20%20initial-scale%3D1.0%2C%20maximum-scale%3D1.0%2C%20user-scalable%3Dno%22%20/%3E%0A%20%20%20%20%3Cstyle%3E%23map_3150f17aa46d4aedaf15cc3e76a8698e%20%7B%0A%20%20%20%20%20%20%20%20position%3A%20relative%3B%0A%20%20%20%20%20%20%20%20width%3A%20100.0%25%3B%0A%20%20%20%20%20%20%20%20height%3A%20100.0%25%3B%0A%20%20%20%20%20%20%20%20left%3A%200.0%25%3B%0A%20%20%20%20%20%20%20%20top%3A%200.0%25%3B%0A%20%20%20%20%20%20%20%20%7D%0A%20%20%20%20%3C/style%3E%0A%3C/head%3E%0A%3Cbody%3E%20%20%20%20%0A%20%20%20%20%0A%20%20%20%20%3Cdiv%20class%3D%22folium-map%22%20id%3D%22map_3150f17aa46d4aedaf15cc3e76a8698e%22%20%3E%3C/div%3E%0A%3C/body%3E%0A%3Cscript%3E%20%20%20%20%0A%20%20%20%20%0A%20%20%20%20%0A%20%20%20%20%20%20%20%20var%20bounds%20%3D%20null%3B%0A%20%20%20%20%0A%0A%20%20%20%20var%20map_3150f17aa46d4aedaf15cc3e76a8698e%20%3D%20L.map%28%0A%20%20%20%20%20%20%20%20%27map_3150f17aa46d4aedaf15cc3e76a8698e%27%2C%20%7B%0A%20%20%20%20%20%20%20%20center%3A%20%5B-32.3382%2C%20-70.051575%5D%2C%0A%20%20%20%20%20%20%20%20zoom%3A%207%2C%0A%20%20%20%20%20%20%20%20maxBounds%3A%20bounds%2C%0A%20%20%20%20%20%20%20%20layers%3A%20%5B%5D%2C%0A%20%20%20%20%20%20%20%20worldCopyJump%3A%20false%2C%0A%20%20%20%20%20%20%20%20crs%3A%20L.CRS.EPSG3857%2C%0A%20%20%20%20%20%20%20%20zoomControl%3A%20true%2C%0A%20%20%20%20%20%20%20%20%7D%29%3B%0A%0A%0A%20%20%20%20%0A%20%20%20%20var%20tile_layer_bb847ab4105749e68e75a9572f66ebf5%20%3D%20L.tileLayer%28%0A%20%20%20%20%20%20%20%20%27https%3A//%7Bs%7D.tile.openstreetmap.org/%7Bz%7D/%7Bx%7D/%7By%7D.png%27%2C%0A%20%20%20%20%20%20%20%20%7B%0A%20%20%20%20%20%20%20%20%22attribution%22%3A%20null%2C%0A%20%20%20%20%20%20%20%20%22detectRetina%22%3A%20false%2C%0A%20%20%20%20%20%20%20%20%22maxNativeZoom%22%3A%2018%2C%0A%20%20%20%20%20%20%20%20%22maxZoom%22%3A%2018%2C%0A%20%20%20%20%20%20%20%20%22minZoom%22%3A%200%2C%0A%20%20%20%20%20%20%20%20%22noWrap%22%3A%20false%2C%0A%20%20%20%20%20%20%20%20%22opacity%22%3A%201%2C%0A%20%20%20%20%20%20%20%20%22subdomains%22%3A%20%22abc%22%2C%0A%20%20%20%20%20%20%20%20%22tms%22%3A%20false%0A%7D%29.addTo%28map_3150f17aa46d4aedaf15cc3e76a8698e%29%3B%0A%20%20%20%20var%20tile_layer_e43717eb146345ac88e116be2ba51fa9%20%3D%20L.tileLayer%28%0A%20%20%20%20%20%20%20%20%27https%3A//earthengine.googleapis.com/v1alpha/projects/earthengine-legacy/maps/76d8f967162349206736ce350b53ccdc-d8bc4276da6c23f5d6ab37640a39619a/tiles/%7Bz%7D/%7Bx%7D/%7By%7D%27%2C%0A%20%20%20%20%20%20%20%20%7B%0A%20%20%20%20%20%20%20%20%22attribution%22%3A%20%22Google%20Earth%20Engine%22%2C%0A%20%20%20%20%20%20%20%20%22detectRetina%22%3A%20false%2C%0A%20%20%20%20%20%20%20%20%22maxNativeZoom%22%3A%2018%2C%0A%20%20%20%20%20%20%20%20%22maxZoom%22%3A%2018%2C%0A%20%20%20%20%20%20%20%20%22minZoom%22%3A%200%2C%0A%20%20%20%20%20%20%20%20%22noWrap%22%3A%20false%2C%0A%20%20%20%20%20%20%20%20%22opacity%22%3A%201%2C%0A%20%20%20%20%20%20%20%20%22subdomains%22%3A%20%22abc%22%2C%0A%20%20%20%20%20%20%20%20%22tms%22%3A%20false%0A%7D%29.addTo%28map_3150f17aa46d4aedaf15cc3e76a8698e%29%3B%0A%20%20%20%20var%20tile_layer_4c68e5f74e114ef9ae8a0bec513def13%20%3D%20L.tileLayer%28%0A%20%20%20%20%20%20%20%20%27https%3A//earthengine.googleapis.com/v1alpha/projects/earthengine-legacy/maps/44052cc0b40146ea89a76fa07124bd39-574f459176126680778abc331202d897/tiles/%7Bz%7D/%7Bx%7D/%7By%7D%27%2C%0A%20%20%20%20%20%20%20%20%7B%0A%20%20%20%20%20%20%20%20%22attribution%22%3A%20%22Google%20Earth%20Engine%22%2C%0A%20%20%20%20%20%20%20%20%22detectRetina%22%3A%20false%2C%0A%20%20%20%20%20%20%20%20%22maxNativeZoom%22%3A%2018%2C%0A%20%20%20%20%20%20%20%20%22maxZoom%22%3A%2018%2C%0A%20%20%20%20%20%20%20%20%22minZoom%22%3A%200%2C%0A%20%20%20%20%20%20%20%20%22noWrap%22%3A%20false%2C%0A%20%20%20%20%20%20%20%20%22opacity%22%3A%201%2C%0A%20%20%20%20%20%20%20%20%22subdomains%22%3A%20%22abc%22%2C%0A%20%20%20%20%20%20%20%20%22tms%22%3A%20false%0A%7D%29.addTo%28map_3150f17aa46d4aedaf15cc3e76a8698e%29%3B%0A%20%20%20%20%0A%20%20%20%20%20%20%20%20%20%20%20%20var%20layer_control_ce99a70fae42446f979bb3edb77e59b4%20%3D%20%7B%0A%20%20%20%20%20%20%20%20%20%20%20%20%20%20%20%20base_layers%20%3A%20%7B%20%22openstreetmap%22%20%3A%20tile_layer_bb847ab4105749e68e75a9572f66ebf5%2C%20%7D%2C%0A%20%20%20%20%20%20%20%20%20%20%20%20%20%20%20%20overlays%20%3A%20%7B%20%22Elevation%22%20%3A%20tile_layer_e43717eb146345ac88e116be2ba51fa9%2C%22Hillshade%22%20%3A%20tile_layer_4c68e5f74e114ef9ae8a0bec513def13%2C%20%7D%0A%20%20%20%20%20%20%20%20%20%20%20%20%20%20%20%20%7D%3B%0A%20%20%20%20%20%20%20%20%20%20%20%20L.control.layers%28%0A%20%20%20%20%20%20%20%20%20%20%20%20%20%20%20%20layer_control_ce99a70fae42446f979bb3edb77e59b4.base_layers%2C%0A%20%20%20%20%20%20%20%20%20%20%20%20%20%20%20%20layer_control_ce99a70fae42446f979bb3edb77e59b4.overlays%2C%0A%20%20%20%20%20%20%20%20%20%20%20%20%20%20%20%20%7Bposition%3A%20%27topright%27%2C%0A%20%20%20%20%20%20%20%20%20%20%20%20%20%20%20%20%20collapsed%3A%20true%2C%0A%20%20%20%20%20%20%20%20%20%20%20%20%20%20%20%20%20autoZIndex%3A%20true%0A%20%20%20%20%20%20%20%20%20%20%20%20%20%20%20%20%7D%29.addTo%28map_3150f17aa46d4aedaf15cc3e76a8698e%29%3B%0A%20%20%20%20%20%20%20%20%20%20%20%20%0A%20%20%20%20%20%20%20%20%0A%3C/script%3E onload=\"this.contentDocument.open();this.contentDocument.write(    decodeURIComponent(this.getAttribute('data-html')));this.contentDocument.close();\" allowfullscreen webkitallowfullscreen mozallowfullscreen></iframe></div></div>"
            ],
            "text/plain": [
              "<folium.folium.Map at 0x7f4288dfb0d0>"
            ]
          },
          "metadata": {}
        }
      ]
    },
    {
      "cell_type": "code",
      "metadata": {
        "id": "mSuXK-Jbd7_i"
      },
      "source": [
        "my_map.save('SA_SRTM_interactive.html')"
      ],
      "execution_count": 42,
      "outputs": []
    },
    {
      "cell_type": "markdown",
      "metadata": {
        "id": "wEiO8w9vZuoN"
      },
      "source": [
        "Create a study area mask from the elevation raster\n",
        "\n"
      ]
    },
    {
      "cell_type": "code",
      "metadata": {
        "id": "tLMfcn1KUDwR"
      },
      "source": [
        "#elv_stuff = elv_img.reduce(ee.Reducer.mean())\n",
        "elv_mask = elv_img.updateMask(mask=0.5)\n",
        "elvector = elv_mask.toInt().reduceToVectors(reducer = ee.Reducer.mean(),\n",
        "        geometry= aoi, \n",
        "        scale= 30,\n",
        "        maxPixels= 1e16)\n",
        "viz = {'palette': ['006633', 'E5FFCC', '662A00', 'D8D8D8', 'F5F5F5']}\n"
      ],
      "execution_count": 43,
      "outputs": []
    },
    {
      "cell_type": "code",
      "metadata": {
        "id": "vpDMvKTHOYQk",
        "colab": {
          "base_uri": "https://localhost:8080/",
          "height": 763
        },
        "outputId": "cdb41da5-a1db-478a-e6c9-f76d10a07d1b"
      },
      "source": [
        "\n",
        "my_map_3 = folium.Map(location=[lat, lon], zoom_start=4)\n",
        "my_map_3.add_ee_layer(elv_mask, viz, 'Polygon')\n",
        "display(my_map_3)"
      ],
      "execution_count": 44,
      "outputs": [
        {
          "output_type": "display_data",
          "data": {
            "text/html": [
              "<div style=\"width:100%;\"><div style=\"position:relative;width:100%;height:0;padding-bottom:60%;\"><span style=\"color:#565656\">Make this Notebook Trusted to load map: File -> Trust Notebook</span><iframe src=\"about:blank\" style=\"position:absolute;width:100%;height:100%;left:0;top:0;border:none !important;\" data-html=%3C%21DOCTYPE%20html%3E%0A%3Chead%3E%20%20%20%20%0A%20%20%20%20%3Cmeta%20http-equiv%3D%22content-type%22%20content%3D%22text/html%3B%20charset%3DUTF-8%22%20/%3E%0A%20%20%20%20%3Cscript%3EL_PREFER_CANVAS%3Dfalse%3B%20L_NO_TOUCH%3Dfalse%3B%20L_DISABLE_3D%3Dfalse%3B%3C/script%3E%0A%20%20%20%20%3Cscript%20src%3D%22https%3A//cdn.jsdelivr.net/npm/leaflet%401.4.0/dist/leaflet.js%22%3E%3C/script%3E%0A%20%20%20%20%3Cscript%20src%3D%22https%3A//code.jquery.com/jquery-1.12.4.min.js%22%3E%3C/script%3E%0A%20%20%20%20%3Cscript%20src%3D%22https%3A//maxcdn.bootstrapcdn.com/bootstrap/3.2.0/js/bootstrap.min.js%22%3E%3C/script%3E%0A%20%20%20%20%3Cscript%20src%3D%22https%3A//cdnjs.cloudflare.com/ajax/libs/Leaflet.awesome-markers/2.0.2/leaflet.awesome-markers.js%22%3E%3C/script%3E%0A%20%20%20%20%3Clink%20rel%3D%22stylesheet%22%20href%3D%22https%3A//cdn.jsdelivr.net/npm/leaflet%401.4.0/dist/leaflet.css%22/%3E%0A%20%20%20%20%3Clink%20rel%3D%22stylesheet%22%20href%3D%22https%3A//maxcdn.bootstrapcdn.com/bootstrap/3.2.0/css/bootstrap.min.css%22/%3E%0A%20%20%20%20%3Clink%20rel%3D%22stylesheet%22%20href%3D%22https%3A//maxcdn.bootstrapcdn.com/bootstrap/3.2.0/css/bootstrap-theme.min.css%22/%3E%0A%20%20%20%20%3Clink%20rel%3D%22stylesheet%22%20href%3D%22https%3A//maxcdn.bootstrapcdn.com/font-awesome/4.6.3/css/font-awesome.min.css%22/%3E%0A%20%20%20%20%3Clink%20rel%3D%22stylesheet%22%20href%3D%22https%3A//cdnjs.cloudflare.com/ajax/libs/Leaflet.awesome-markers/2.0.2/leaflet.awesome-markers.css%22/%3E%0A%20%20%20%20%3Clink%20rel%3D%22stylesheet%22%20href%3D%22https%3A//rawcdn.githack.com/python-visualization/folium/master/folium/templates/leaflet.awesome.rotate.css%22/%3E%0A%20%20%20%20%3Cstyle%3Ehtml%2C%20body%20%7Bwidth%3A%20100%25%3Bheight%3A%20100%25%3Bmargin%3A%200%3Bpadding%3A%200%3B%7D%3C/style%3E%0A%20%20%20%20%3Cstyle%3E%23map%20%7Bposition%3Aabsolute%3Btop%3A0%3Bbottom%3A0%3Bright%3A0%3Bleft%3A0%3B%7D%3C/style%3E%0A%20%20%20%20%0A%20%20%20%20%3Cmeta%20name%3D%22viewport%22%20content%3D%22width%3Ddevice-width%2C%0A%20%20%20%20%20%20%20%20initial-scale%3D1.0%2C%20maximum-scale%3D1.0%2C%20user-scalable%3Dno%22%20/%3E%0A%20%20%20%20%3Cstyle%3E%23map_288e197ee82b48aba3430643019eee50%20%7B%0A%20%20%20%20%20%20%20%20position%3A%20relative%3B%0A%20%20%20%20%20%20%20%20width%3A%20100.0%25%3B%0A%20%20%20%20%20%20%20%20height%3A%20100.0%25%3B%0A%20%20%20%20%20%20%20%20left%3A%200.0%25%3B%0A%20%20%20%20%20%20%20%20top%3A%200.0%25%3B%0A%20%20%20%20%20%20%20%20%7D%0A%20%20%20%20%3C/style%3E%0A%3C/head%3E%0A%3Cbody%3E%20%20%20%20%0A%20%20%20%20%0A%20%20%20%20%3Cdiv%20class%3D%22folium-map%22%20id%3D%22map_288e197ee82b48aba3430643019eee50%22%20%3E%3C/div%3E%0A%3C/body%3E%0A%3Cscript%3E%20%20%20%20%0A%20%20%20%20%0A%20%20%20%20%0A%20%20%20%20%20%20%20%20var%20bounds%20%3D%20null%3B%0A%20%20%20%20%0A%0A%20%20%20%20var%20map_288e197ee82b48aba3430643019eee50%20%3D%20L.map%28%0A%20%20%20%20%20%20%20%20%27map_288e197ee82b48aba3430643019eee50%27%2C%20%7B%0A%20%20%20%20%20%20%20%20center%3A%20%5B-32.3382%2C%20-70.051575%5D%2C%0A%20%20%20%20%20%20%20%20zoom%3A%204%2C%0A%20%20%20%20%20%20%20%20maxBounds%3A%20bounds%2C%0A%20%20%20%20%20%20%20%20layers%3A%20%5B%5D%2C%0A%20%20%20%20%20%20%20%20worldCopyJump%3A%20false%2C%0A%20%20%20%20%20%20%20%20crs%3A%20L.CRS.EPSG3857%2C%0A%20%20%20%20%20%20%20%20zoomControl%3A%20true%2C%0A%20%20%20%20%20%20%20%20%7D%29%3B%0A%0A%0A%20%20%20%20%0A%20%20%20%20var%20tile_layer_0e3c4b971db040ba9f792a3a046d64c3%20%3D%20L.tileLayer%28%0A%20%20%20%20%20%20%20%20%27https%3A//%7Bs%7D.tile.openstreetmap.org/%7Bz%7D/%7Bx%7D/%7By%7D.png%27%2C%0A%20%20%20%20%20%20%20%20%7B%0A%20%20%20%20%20%20%20%20%22attribution%22%3A%20null%2C%0A%20%20%20%20%20%20%20%20%22detectRetina%22%3A%20false%2C%0A%20%20%20%20%20%20%20%20%22maxNativeZoom%22%3A%2018%2C%0A%20%20%20%20%20%20%20%20%22maxZoom%22%3A%2018%2C%0A%20%20%20%20%20%20%20%20%22minZoom%22%3A%200%2C%0A%20%20%20%20%20%20%20%20%22noWrap%22%3A%20false%2C%0A%20%20%20%20%20%20%20%20%22opacity%22%3A%201%2C%0A%20%20%20%20%20%20%20%20%22subdomains%22%3A%20%22abc%22%2C%0A%20%20%20%20%20%20%20%20%22tms%22%3A%20false%0A%7D%29.addTo%28map_288e197ee82b48aba3430643019eee50%29%3B%0A%20%20%20%20var%20tile_layer_cf128bfc9b4f4da1abdab21297d5ec68%20%3D%20L.tileLayer%28%0A%20%20%20%20%20%20%20%20%27https%3A//earthengine.googleapis.com/v1alpha/projects/earthengine-legacy/maps/c93061d236ff405351fedc08e7fec545-ad3e96e72940488c1d0c6a9a344a504f/tiles/%7Bz%7D/%7Bx%7D/%7By%7D%27%2C%0A%20%20%20%20%20%20%20%20%7B%0A%20%20%20%20%20%20%20%20%22attribution%22%3A%20%22Google%20Earth%20Engine%22%2C%0A%20%20%20%20%20%20%20%20%22detectRetina%22%3A%20false%2C%0A%20%20%20%20%20%20%20%20%22maxNativeZoom%22%3A%2018%2C%0A%20%20%20%20%20%20%20%20%22maxZoom%22%3A%2018%2C%0A%20%20%20%20%20%20%20%20%22minZoom%22%3A%200%2C%0A%20%20%20%20%20%20%20%20%22noWrap%22%3A%20false%2C%0A%20%20%20%20%20%20%20%20%22opacity%22%3A%201%2C%0A%20%20%20%20%20%20%20%20%22subdomains%22%3A%20%22abc%22%2C%0A%20%20%20%20%20%20%20%20%22tms%22%3A%20false%0A%7D%29.addTo%28map_288e197ee82b48aba3430643019eee50%29%3B%0A%3C/script%3E onload=\"this.contentDocument.open();this.contentDocument.write(    decodeURIComponent(this.getAttribute('data-html')));this.contentDocument.close();\" allowfullscreen webkitallowfullscreen mozallowfullscreen></iframe></div></div>"
            ],
            "text/plain": [
              "<folium.folium.Map at 0x7f4288da2510>"
            ]
          },
          "metadata": {}
        }
      ]
    },
    {
      "cell_type": "code",
      "metadata": {
        "id": "UG58BXOifbQ4"
      },
      "source": [
        "def maskS2clouds(image): \n",
        "  qa = image.select('QA60')\n",
        "\n",
        "  # Bits 10 and 11 are clouds and cirrus, respectively.\n",
        "  cloudBitMask = 1 << 10\n",
        "  cirrusBitMask = 1 << 11\n",
        "\n",
        "  # Both flags should be set to zero, indicating clear conditions.\n",
        "  mask = qa.bitwiseAnd(cloudBitMask).eq(0).bitwiseAnd(qa.bitwiseAnd(cirrusBitMask).eq(0))\n",
        "  return image.updateMask(mask).divide(10000)\n",
        "\n",
        "dataset = ee.ImageCollection('COPERNICUS/S2_SR').filterDate('2020-01-01', '2020-12-30').filter(ee.Filter.lt('CLOUDY_PIXEL_PERCENTAGE',10)).map(maskS2clouds).mosaic().clip(aoi).updateMask(elv_mask)\n",
        "visualization = {'min': 0.0, 'max': 0.3,'bands': ['B5', 'B7', 'B4']}\n"
      ],
      "execution_count": 45,
      "outputs": []
    },
    {
      "cell_type": "code",
      "metadata": {
        "id": "LchIqEWsK_0u"
      },
      "source": [
        "my_map_2 = folium.Map(location=[lat, lon], zoom_start=7)"
      ],
      "execution_count": 46,
      "outputs": []
    },
    {
      "cell_type": "markdown",
      "metadata": {
        "id": "BVhk6H9O7EUN"
      },
      "source": [
        "**Let's make a NDVI time series from LANDSAT 8 dataset from 2014-2021 and also create False color composite visualisations.**"
      ]
    },
    {
      "cell_type": "code",
      "metadata": {
        "id": "Bdp3mM5Fn9SM"
      },
      "source": [
        "#Import imagery and create a cloud mask from the pixel_qa band of LS8 data\n",
        "image_collection = ee.ImageCollection('LANDSAT/LC08/C01/T1_SR').filterBounds(aoi)"
      ],
      "execution_count": 47,
      "outputs": []
    },
    {
      "cell_type": "code",
      "metadata": {
        "id": "Ewh1DpVEAQ_c"
      },
      "source": [
        "def maskL8SR(image_collection):\n",
        "  cloudShadowBitMask = 1 << 3\n",
        "  cloudBitMask = 1 << 5\n",
        "  qa = image_collection.select('pixel_qa')\n",
        "  mask = qa.bitwiseAnd(cloudShadowBitMask).eq(0).bitwiseAnd(qa.bitwiseAnd(cloudBitMask).eq(0))\n",
        "  return image_collection.updateMask(mask).divide(10000).select('B[0-9]').copyProperties(image_collection, ['system:time_start'])"
      ],
      "execution_count": 48,
      "outputs": []
    },
    {
      "cell_type": "code",
      "metadata": {
        "colab": {
          "base_uri": "https://localhost:8080/"
        },
        "id": "t3NnMJPnAQ76",
        "outputId": "2f2f181e-f858-4990-825c-a3fa517f6dff"
      },
      "source": [
        "step_list = ee.List.sequence(2014,2021)\n",
        "def func(year):\n",
        "  startDate = ee.Date.fromYMD(year,9,1)\n",
        "  endDate = ee.Date.fromYMD(year,10,30)\n",
        "  composite_i = image_collection.filterDate(startDate,endDate).map(maskL8SR).median().set('system:time_start', startDate)\n",
        "  return composite_i                                \n",
        "\n",
        "filter_collection = step_list.map(func)                                   \n",
        "\n",
        "yearly_composite = ee.ImageCollection(filter_collection) \n",
        "print(yearly_composite)                                    "
      ],
      "execution_count": 49,
      "outputs": [
        {
          "output_type": "stream",
          "name": "stdout",
          "text": [
            "ee.ImageCollection({\n",
            "  \"functionInvocationValue\": {\n",
            "    \"functionName\": \"ImageCollection.fromImages\",\n",
            "    \"arguments\": {\n",
            "      \"images\": {\n",
            "        \"functionInvocationValue\": {\n",
            "          \"functionName\": \"List.map\",\n",
            "          \"arguments\": {\n",
            "            \"baseAlgorithm\": {\n",
            "              \"functionDefinitionValue\": {\n",
            "                \"argumentNames\": [\n",
            "                  \"_MAPPING_VAR_1_0\"\n",
            "                ],\n",
            "                \"body\": {\n",
            "                  \"functionInvocationValue\": {\n",
            "                    \"functionName\": \"Element.set\",\n",
            "                    \"arguments\": {\n",
            "                      \"key\": {\n",
            "                        \"constantValue\": \"system:time_start\"\n",
            "                      },\n",
            "                      \"object\": {\n",
            "                        \"functionInvocationValue\": {\n",
            "                          \"functionName\": \"reduce.median\",\n",
            "                          \"arguments\": {\n",
            "                            \"collection\": {\n",
            "                              \"functionInvocationValue\": {\n",
            "                                \"functionName\": \"Collection.map\",\n",
            "                                \"arguments\": {\n",
            "                                  \"baseAlgorithm\": {\n",
            "                                    \"functionDefinitionValue\": {\n",
            "                                      \"argumentNames\": [\n",
            "                                        \"_MAPPING_VAR_0_0\"\n",
            "                                      ],\n",
            "                                      \"body\": {\n",
            "                                        \"functionInvocationValue\": {\n",
            "                                          \"functionName\": \"Image.copyProperties\",\n",
            "                                          \"arguments\": {\n",
            "                                            \"destination\": {\n",
            "                                              \"functionInvocationValue\": {\n",
            "                                                \"functionName\": \"Image.select\",\n",
            "                                                \"arguments\": {\n",
            "                                                  \"bandSelectors\": {\n",
            "                                                    \"constantValue\": [\n",
            "                                                      \"B[0-9]\"\n",
            "                                                    ]\n",
            "                                                  },\n",
            "                                                  \"input\": {\n",
            "                                                    \"functionInvocationValue\": {\n",
            "                                                      \"functionName\": \"Image.divide\",\n",
            "                                                      \"arguments\": {\n",
            "                                                        \"image1\": {\n",
            "                                                          \"functionInvocationValue\": {\n",
            "                                                            \"functionName\": \"Image.updateMask\",\n",
            "                                                            \"arguments\": {\n",
            "                                                              \"image\": {\n",
            "                                                                \"argumentReference\": \"_MAPPING_VAR_0_0\"\n",
            "                                                              },\n",
            "                                                              \"mask\": {\n",
            "                                                                \"functionInvocationValue\": {\n",
            "                                                                  \"functionName\": \"Image.bitwiseAnd\",\n",
            "                                                                  \"arguments\": {\n",
            "                                                                    \"image1\": {\n",
            "                                                                      \"functionInvocationValue\": {\n",
            "                                                                        \"functionName\": \"Image.eq\",\n",
            "                                                                        \"arguments\": {\n",
            "                                                                          \"image1\": {\n",
            "                                                                            \"functionInvocationValue\": {\n",
            "                                                                              \"functionName\": \"Image.bitwiseAnd\",\n",
            "                                                                              \"arguments\": {\n",
            "                                                                                \"image1\": {\n",
            "                                                                                  \"functionInvocationValue\": {\n",
            "                                                                                    \"functionName\": \"Image.select\",\n",
            "                                                                                    \"arguments\": {\n",
            "                                                                                      \"bandSelectors\": {\n",
            "                                                                                        \"constantValue\": [\n",
            "                                                                                          \"pixel_qa\"\n",
            "                                                                                        ]\n",
            "                                                                                      },\n",
            "                                                                                      \"input\": {\n",
            "                                                                                        \"argumentReference\": \"_MAPPING_VAR_0_0\"\n",
            "                                                                                      }\n",
            "                                                                                    }\n",
            "                                                                                  }\n",
            "                                                                                },\n",
            "                                                                                \"image2\": {\n",
            "                                                                                  \"functionInvocationValue\": {\n",
            "                                                                                    \"functionName\": \"Image.constant\",\n",
            "                                                                                    \"arguments\": {\n",
            "                                                                                      \"value\": {\n",
            "                                                                                        \"constantValue\": 8\n",
            "                                                                                      }\n",
            "                                                                                    }\n",
            "                                                                                  }\n",
            "                                                                                }\n",
            "                                                                              }\n",
            "                                                                            }\n",
            "                                                                          },\n",
            "                                                                          \"image2\": {\n",
            "                                                                            \"functionInvocationValue\": {\n",
            "                                                                              \"functionName\": \"Image.constant\",\n",
            "                                                                              \"arguments\": {\n",
            "                                                                                \"value\": {\n",
            "                                                                                  \"constantValue\": 0\n",
            "                                                                                }\n",
            "                                                                              }\n",
            "                                                                            }\n",
            "                                                                          }\n",
            "                                                                        }\n",
            "                                                                      }\n",
            "                                                                    },\n",
            "                                                                    \"image2\": {\n",
            "                                                                      \"functionInvocationValue\": {\n",
            "                                                                        \"functionName\": \"Image.eq\",\n",
            "                                                                        \"arguments\": {\n",
            "                                                                          \"image1\": {\n",
            "                                                                            \"functionInvocationValue\": {\n",
            "                                                                              \"functionName\": \"Image.bitwiseAnd\",\n",
            "                                                                              \"arguments\": {\n",
            "                                                                                \"image1\": {\n",
            "                                                                                  \"functionInvocationValue\": {\n",
            "                                                                                    \"functionName\": \"Image.select\",\n",
            "                                                                                    \"arguments\": {\n",
            "                                                                                      \"bandSelectors\": {\n",
            "                                                                                        \"constantValue\": [\n",
            "                                                                                          \"pixel_qa\"\n",
            "                                                                                        ]\n",
            "                                                                                      },\n",
            "                                                                                      \"input\": {\n",
            "                                                                                        \"argumentReference\": \"_MAPPING_VAR_0_0\"\n",
            "                                                                                      }\n",
            "                                                                                    }\n",
            "                                                                                  }\n",
            "                                                                                },\n",
            "                                                                                \"image2\": {\n",
            "                                                                                  \"functionInvocationValue\": {\n",
            "                                                                                    \"functionName\": \"Image.constant\",\n",
            "                                                                                    \"arguments\": {\n",
            "                                                                                      \"value\": {\n",
            "                                                                                        \"constantValue\": 32\n",
            "                                                                                      }\n",
            "                                                                                    }\n",
            "                                                                                  }\n",
            "                                                                                }\n",
            "                                                                              }\n",
            "                                                                            }\n",
            "                                                                          },\n",
            "                                                                          \"image2\": {\n",
            "                                                                            \"functionInvocationValue\": {\n",
            "                                                                              \"functionName\": \"Image.constant\",\n",
            "                                                                              \"arguments\": {\n",
            "                                                                                \"value\": {\n",
            "                                                                                  \"constantValue\": 0\n",
            "                                                                                }\n",
            "                                                                              }\n",
            "                                                                            }\n",
            "                                                                          }\n",
            "                                                                        }\n",
            "                                                                      }\n",
            "                                                                    }\n",
            "                                                                  }\n",
            "                                                                }\n",
            "                                                              }\n",
            "                                                            }\n",
            "                                                          }\n",
            "                                                        },\n",
            "                                                        \"image2\": {\n",
            "                                                          \"functionInvocationValue\": {\n",
            "                                                            \"functionName\": \"Image.constant\",\n",
            "                                                            \"arguments\": {\n",
            "                                                              \"value\": {\n",
            "                                                                \"constantValue\": 10000\n",
            "                                                              }\n",
            "                                                            }\n",
            "                                                          }\n",
            "                                                        }\n",
            "                                                      }\n",
            "                                                    }\n",
            "                                                  }\n",
            "                                                }\n",
            "                                              }\n",
            "                                            },\n",
            "                                            \"properties\": {\n",
            "                                              \"constantValue\": [\n",
            "                                                \"system:time_start\"\n",
            "                                              ]\n",
            "                                            },\n",
            "                                            \"source\": {\n",
            "                                              \"argumentReference\": \"_MAPPING_VAR_0_0\"\n",
            "                                            }\n",
            "                                          }\n",
            "                                        }\n",
            "                                      }\n",
            "                                    }\n",
            "                                  },\n",
            "                                  \"collection\": {\n",
            "                                    \"functionInvocationValue\": {\n",
            "                                      \"functionName\": \"Collection.filter\",\n",
            "                                      \"arguments\": {\n",
            "                                        \"collection\": {\n",
            "                                          \"functionInvocationValue\": {\n",
            "                                            \"functionName\": \"Collection.filter\",\n",
            "                                            \"arguments\": {\n",
            "                                              \"collection\": {\n",
            "                                                \"functionInvocationValue\": {\n",
            "                                                  \"functionName\": \"ImageCollection.load\",\n",
            "                                                  \"arguments\": {\n",
            "                                                    \"id\": {\n",
            "                                                      \"constantValue\": \"LANDSAT/LC08/C01/T1_SR\"\n",
            "                                                    }\n",
            "                                                  }\n",
            "                                                }\n",
            "                                              },\n",
            "                                              \"filter\": {\n",
            "                                                \"functionInvocationValue\": {\n",
            "                                                  \"functionName\": \"Filter.intersects\",\n",
            "                                                  \"arguments\": {\n",
            "                                                    \"leftField\": {\n",
            "                                                      \"constantValue\": \".all\"\n",
            "                                                    },\n",
            "                                                    \"rightValue\": {\n",
            "                                                      \"functionInvocationValue\": {\n",
            "                                                        \"functionName\": \"Feature\",\n",
            "                                                        \"arguments\": {\n",
            "                                                          \"geometry\": {\n",
            "                                                            \"functionInvocationValue\": {\n",
            "                                                              \"functionName\": \"GeometryConstructors.Polygon\",\n",
            "                                                              \"arguments\": {\n",
            "                                                                \"coordinates\": {\n",
            "                                                                  \"constantValue\": [\n",
            "                                                                    [\n",
            "                                                                      [\n",
            "                                                                        -83.671875,\n",
            "                                                                        -54.05938788662357\n",
            "                                                                      ],\n",
            "                                                                      [\n",
            "                                                                        -35.33203125,\n",
            "                                                                        -54.87660665410867\n",
            "                                                                      ],\n",
            "                                                                      [\n",
            "                                                                        -33.39843750000001,\n",
            "                                                                        -8.233237111274553\n",
            "                                                                      ],\n",
            "                                                                      [\n",
            "                                                                        -36.2109375,\n",
            "                                                                        12.039320557540572\n",
            "                                                                      ],\n",
            "                                                                      [\n",
            "                                                                        -83.671875,\n",
            "                                                                        12.382928338487408\n",
            "                                                                      ],\n",
            "                                                                      [\n",
            "                                                                        -83.671875,\n",
            "                                                                        -54.05938788662357\n",
            "                                                                      ]\n",
            "                                                                    ]\n",
            "                                                                  ]\n",
            "                                                                },\n",
            "                                                                \"evenOdd\": {\n",
            "                                                                  \"constantValue\": true\n",
            "                                                                }\n",
            "                                                              }\n",
            "                                                            }\n",
            "                                                          }\n",
            "                                                        }\n",
            "                                                      }\n",
            "                                                    }\n",
            "                                                  }\n",
            "                                                }\n",
            "                                              }\n",
            "                                            }\n",
            "                                          }\n",
            "                                        },\n",
            "                                        \"filter\": {\n",
            "                                          \"functionInvocationValue\": {\n",
            "                                            \"functionName\": \"Filter.dateRangeContains\",\n",
            "                                            \"arguments\": {\n",
            "                                              \"leftValue\": {\n",
            "                                                \"functionInvocationValue\": {\n",
            "                                                  \"functionName\": \"DateRange\",\n",
            "                                                  \"arguments\": {\n",
            "                                                    \"end\": {\n",
            "                                                      \"functionInvocationValue\": {\n",
            "                                                        \"functionName\": \"Date.fromYMD\",\n",
            "                                                        \"arguments\": {\n",
            "                                                          \"day\": {\n",
            "                                                            \"constantValue\": 30\n",
            "                                                          },\n",
            "                                                          \"month\": {\n",
            "                                                            \"constantValue\": 10\n",
            "                                                          },\n",
            "                                                          \"year\": {\n",
            "                                                            \"argumentReference\": \"_MAPPING_VAR_1_0\"\n",
            "                                                          }\n",
            "                                                        }\n",
            "                                                      }\n",
            "                                                    },\n",
            "                                                    \"start\": {\n",
            "                                                      \"functionInvocationValue\": {\n",
            "                                                        \"functionName\": \"Date.fromYMD\",\n",
            "                                                        \"arguments\": {\n",
            "                                                          \"day\": {\n",
            "                                                            \"constantValue\": 1\n",
            "                                                          },\n",
            "                                                          \"month\": {\n",
            "                                                            \"constantValue\": 9\n",
            "                                                          },\n",
            "                                                          \"year\": {\n",
            "                                                            \"argumentReference\": \"_MAPPING_VAR_1_0\"\n",
            "                                                          }\n",
            "                                                        }\n",
            "                                                      }\n",
            "                                                    }\n",
            "                                                  }\n",
            "                                                }\n",
            "                                              },\n",
            "                                              \"rightField\": {\n",
            "                                                \"constantValue\": \"system:time_start\"\n",
            "                                              }\n",
            "                                            }\n",
            "                                          }\n",
            "                                        }\n",
            "                                      }\n",
            "                                    }\n",
            "                                  }\n",
            "                                }\n",
            "                              }\n",
            "                            }\n",
            "                          }\n",
            "                        }\n",
            "                      },\n",
            "                      \"value\": {\n",
            "                        \"functionInvocationValue\": {\n",
            "                          \"functionName\": \"Date.fromYMD\",\n",
            "                          \"arguments\": {\n",
            "                            \"day\": {\n",
            "                              \"constantValue\": 1\n",
            "                            },\n",
            "                            \"month\": {\n",
            "                              \"constantValue\": 9\n",
            "                            },\n",
            "                            \"year\": {\n",
            "                              \"argumentReference\": \"_MAPPING_VAR_1_0\"\n",
            "                            }\n",
            "                          }\n",
            "                        }\n",
            "                      }\n",
            "                    }\n",
            "                  }\n",
            "                }\n",
            "              }\n",
            "            },\n",
            "            \"list\": {\n",
            "              \"functionInvocationValue\": {\n",
            "                \"functionName\": \"List.sequence\",\n",
            "                \"arguments\": {\n",
            "                  \"end\": {\n",
            "                    \"constantValue\": 2021\n",
            "                  },\n",
            "                  \"start\": {\n",
            "                    \"constantValue\": 2014\n",
            "                  }\n",
            "                }\n",
            "              }\n",
            "            }\n",
            "          }\n",
            "        }\n",
            "      }\n",
            "    }\n",
            "  }\n",
            "})\n"
          ]
        }
      ]
    },
    {
      "cell_type": "code",
      "metadata": {
        "id": "3ws6Sap9AQ5J"
      },
      "source": [
        "def ndvi(img):\n",
        "  ndvi_img = img.select(['B4','B5'], ['red', 'nir'])\n",
        "  ndvi_img = ndvi_img.expression('(NIR - RED)/(RED + NIR)', {'NIR' : ndvi_img.select(['nir']), 'RED' : ndvi_img.select(['red'])}).rename(['NDVI'])\n",
        "  return img.addBands(ndvi_img)"
      ],
      "execution_count": 50,
      "outputs": []
    },
    {
      "cell_type": "code",
      "metadata": {
        "id": "w5IQi__kAQvR"
      },
      "source": [
        "def funk(image):\n",
        "  return ndvi(image)\n",
        "yearly_composite = yearly_composite.map(funk)"
      ],
      "execution_count": 51,
      "outputs": []
    },
    {
      "cell_type": "code",
      "metadata": {
        "id": "mn3hZ7VAAQo7"
      },
      "source": [
        "ndvi_collection = yearly_composite.select(['NDVI'])\n",
        "y2014 = ndvi_collection.filterDate('2014-01-01','2014-12-31').first().clip(aoi).updateMask(elv_mask)\n",
        "y2015 = ndvi_collection.filterDate('2015-01-01','2015-12-31').first().clip(aoi).updateMask(elv_mask)\n",
        "y2016 = ndvi_collection.filterDate('2016-01-01','2016-12-31').first().clip(aoi).updateMask(elv_mask)\n",
        "y2017 = ndvi_collection.filterDate('2017-01-01','2017-12-31').first().clip(aoi).updateMask(elv_mask)\n",
        "y2018 = ndvi_collection.filterDate('2018-01-01','2018-12-31').first().clip(aoi).updateMask(elv_mask)\n",
        "y2019 = ndvi_collection.filterDate('2019-01-01','2019-12-31').first().clip(aoi).updateMask(elv_mask)\n",
        "y2020 = ndvi_collection.filterDate('2020-01-01','2020-12-31').first().clip(aoi).updateMask(elv_mask)\n",
        "#y2021 = ndvi_collection.filterDate('2021-01-01','2021-12-31').first().clip(aoi).updateMask(elv_mask)\n",
        "\n",
        "ndvi_params = {'min':0, 'max':1, 'palette':['red','yellow', 'green']}\n",
        "\n",
        "my_map_4 = folium.Map(location=[lat, lon], zoom_start=3)"
      ],
      "execution_count": 52,
      "outputs": []
    },
    {
      "cell_type": "code",
      "metadata": {
        "colab": {
          "base_uri": "https://localhost:8080/",
          "height": 763
        },
        "id": "ZtMlxpDXVLyt",
        "outputId": "e1bacca0-1f49-4a0e-a8bd-2e3af9619990"
      },
      "source": [
        "my_map_4.add_ee_layer(y2014, ndvi_params, 'NDVI 2014')\n",
        "my_map_4.add_ee_layer(y2015, ndvi_params, 'NDVI 2015')\n",
        "my_map_4.add_ee_layer(y2016, ndvi_params, 'NDVI 2016')\n",
        "my_map_4.add_ee_layer(y2017, ndvi_params, 'NDVI 2017')\n",
        "my_map_4.add_ee_layer(y2018, ndvi_params, 'NDVI 2018')\n",
        "my_map_4.add_ee_layer(y2019, ndvi_params, 'NDVI 2019')\n",
        "my_map_4.add_ee_layer(y2020, ndvi_params, 'NDVI 2020')\n",
        "#my_map_4.add_ee_layer(y2021, ndvi_params, 'NDVI 2021')\n",
        "\n",
        "# Add a layer control panel to the map.\n",
        "my_map_4.add_child(folium.LayerControl())\n",
        "\n",
        "# Display the map.\n",
        "display(my_map_4)"
      ],
      "execution_count": 53,
      "outputs": [
        {
          "output_type": "display_data",
          "data": {
            "text/html": [
              "<div style=\"width:100%;\"><div style=\"position:relative;width:100%;height:0;padding-bottom:60%;\"><span style=\"color:#565656\">Make this Notebook Trusted to load map: File -> Trust Notebook</span><iframe src=\"about:blank\" style=\"position:absolute;width:100%;height:100%;left:0;top:0;border:none !important;\" data-html=%3C%21DOCTYPE%20html%3E%0A%3Chead%3E%20%20%20%20%0A%20%20%20%20%3Cmeta%20http-equiv%3D%22content-type%22%20content%3D%22text/html%3B%20charset%3DUTF-8%22%20/%3E%0A%20%20%20%20%3Cscript%3EL_PREFER_CANVAS%3Dfalse%3B%20L_NO_TOUCH%3Dfalse%3B%20L_DISABLE_3D%3Dfalse%3B%3C/script%3E%0A%20%20%20%20%3Cscript%20src%3D%22https%3A//cdn.jsdelivr.net/npm/leaflet%401.4.0/dist/leaflet.js%22%3E%3C/script%3E%0A%20%20%20%20%3Cscript%20src%3D%22https%3A//code.jquery.com/jquery-1.12.4.min.js%22%3E%3C/script%3E%0A%20%20%20%20%3Cscript%20src%3D%22https%3A//maxcdn.bootstrapcdn.com/bootstrap/3.2.0/js/bootstrap.min.js%22%3E%3C/script%3E%0A%20%20%20%20%3Cscript%20src%3D%22https%3A//cdnjs.cloudflare.com/ajax/libs/Leaflet.awesome-markers/2.0.2/leaflet.awesome-markers.js%22%3E%3C/script%3E%0A%20%20%20%20%3Clink%20rel%3D%22stylesheet%22%20href%3D%22https%3A//cdn.jsdelivr.net/npm/leaflet%401.4.0/dist/leaflet.css%22/%3E%0A%20%20%20%20%3Clink%20rel%3D%22stylesheet%22%20href%3D%22https%3A//maxcdn.bootstrapcdn.com/bootstrap/3.2.0/css/bootstrap.min.css%22/%3E%0A%20%20%20%20%3Clink%20rel%3D%22stylesheet%22%20href%3D%22https%3A//maxcdn.bootstrapcdn.com/bootstrap/3.2.0/css/bootstrap-theme.min.css%22/%3E%0A%20%20%20%20%3Clink%20rel%3D%22stylesheet%22%20href%3D%22https%3A//maxcdn.bootstrapcdn.com/font-awesome/4.6.3/css/font-awesome.min.css%22/%3E%0A%20%20%20%20%3Clink%20rel%3D%22stylesheet%22%20href%3D%22https%3A//cdnjs.cloudflare.com/ajax/libs/Leaflet.awesome-markers/2.0.2/leaflet.awesome-markers.css%22/%3E%0A%20%20%20%20%3Clink%20rel%3D%22stylesheet%22%20href%3D%22https%3A//rawcdn.githack.com/python-visualization/folium/master/folium/templates/leaflet.awesome.rotate.css%22/%3E%0A%20%20%20%20%3Cstyle%3Ehtml%2C%20body%20%7Bwidth%3A%20100%25%3Bheight%3A%20100%25%3Bmargin%3A%200%3Bpadding%3A%200%3B%7D%3C/style%3E%0A%20%20%20%20%3Cstyle%3E%23map%20%7Bposition%3Aabsolute%3Btop%3A0%3Bbottom%3A0%3Bright%3A0%3Bleft%3A0%3B%7D%3C/style%3E%0A%20%20%20%20%0A%20%20%20%20%3Cmeta%20name%3D%22viewport%22%20content%3D%22width%3Ddevice-width%2C%0A%20%20%20%20%20%20%20%20initial-scale%3D1.0%2C%20maximum-scale%3D1.0%2C%20user-scalable%3Dno%22%20/%3E%0A%20%20%20%20%3Cstyle%3E%23map_9d306267e63844d3a73e9ffdd5c0bc13%20%7B%0A%20%20%20%20%20%20%20%20position%3A%20relative%3B%0A%20%20%20%20%20%20%20%20width%3A%20100.0%25%3B%0A%20%20%20%20%20%20%20%20height%3A%20100.0%25%3B%0A%20%20%20%20%20%20%20%20left%3A%200.0%25%3B%0A%20%20%20%20%20%20%20%20top%3A%200.0%25%3B%0A%20%20%20%20%20%20%20%20%7D%0A%20%20%20%20%3C/style%3E%0A%3C/head%3E%0A%3Cbody%3E%20%20%20%20%0A%20%20%20%20%0A%20%20%20%20%3Cdiv%20class%3D%22folium-map%22%20id%3D%22map_9d306267e63844d3a73e9ffdd5c0bc13%22%20%3E%3C/div%3E%0A%3C/body%3E%0A%3Cscript%3E%20%20%20%20%0A%20%20%20%20%0A%20%20%20%20%0A%20%20%20%20%20%20%20%20var%20bounds%20%3D%20null%3B%0A%20%20%20%20%0A%0A%20%20%20%20var%20map_9d306267e63844d3a73e9ffdd5c0bc13%20%3D%20L.map%28%0A%20%20%20%20%20%20%20%20%27map_9d306267e63844d3a73e9ffdd5c0bc13%27%2C%20%7B%0A%20%20%20%20%20%20%20%20center%3A%20%5B-32.3382%2C%20-70.051575%5D%2C%0A%20%20%20%20%20%20%20%20zoom%3A%203%2C%0A%20%20%20%20%20%20%20%20maxBounds%3A%20bounds%2C%0A%20%20%20%20%20%20%20%20layers%3A%20%5B%5D%2C%0A%20%20%20%20%20%20%20%20worldCopyJump%3A%20false%2C%0A%20%20%20%20%20%20%20%20crs%3A%20L.CRS.EPSG3857%2C%0A%20%20%20%20%20%20%20%20zoomControl%3A%20true%2C%0A%20%20%20%20%20%20%20%20%7D%29%3B%0A%0A%0A%20%20%20%20%0A%20%20%20%20var%20tile_layer_51738eca094b4a78924764f93c7a7aaa%20%3D%20L.tileLayer%28%0A%20%20%20%20%20%20%20%20%27https%3A//%7Bs%7D.tile.openstreetmap.org/%7Bz%7D/%7Bx%7D/%7By%7D.png%27%2C%0A%20%20%20%20%20%20%20%20%7B%0A%20%20%20%20%20%20%20%20%22attribution%22%3A%20null%2C%0A%20%20%20%20%20%20%20%20%22detectRetina%22%3A%20false%2C%0A%20%20%20%20%20%20%20%20%22maxNativeZoom%22%3A%2018%2C%0A%20%20%20%20%20%20%20%20%22maxZoom%22%3A%2018%2C%0A%20%20%20%20%20%20%20%20%22minZoom%22%3A%200%2C%0A%20%20%20%20%20%20%20%20%22noWrap%22%3A%20false%2C%0A%20%20%20%20%20%20%20%20%22opacity%22%3A%201%2C%0A%20%20%20%20%20%20%20%20%22subdomains%22%3A%20%22abc%22%2C%0A%20%20%20%20%20%20%20%20%22tms%22%3A%20false%0A%7D%29.addTo%28map_9d306267e63844d3a73e9ffdd5c0bc13%29%3B%0A%20%20%20%20var%20tile_layer_1e2119bc08194d048913016846962a9b%20%3D%20L.tileLayer%28%0A%20%20%20%20%20%20%20%20%27https%3A//earthengine.googleapis.com/v1alpha/projects/earthengine-legacy/maps/2b2bf227ebe683fa6081ed3ca4a032a8-e6e6f136eb0aadc8ed13c3af85e31d09/tiles/%7Bz%7D/%7Bx%7D/%7By%7D%27%2C%0A%20%20%20%20%20%20%20%20%7B%0A%20%20%20%20%20%20%20%20%22attribution%22%3A%20%22Google%20Earth%20Engine%22%2C%0A%20%20%20%20%20%20%20%20%22detectRetina%22%3A%20false%2C%0A%20%20%20%20%20%20%20%20%22maxNativeZoom%22%3A%2018%2C%0A%20%20%20%20%20%20%20%20%22maxZoom%22%3A%2018%2C%0A%20%20%20%20%20%20%20%20%22minZoom%22%3A%200%2C%0A%20%20%20%20%20%20%20%20%22noWrap%22%3A%20false%2C%0A%20%20%20%20%20%20%20%20%22opacity%22%3A%201%2C%0A%20%20%20%20%20%20%20%20%22subdomains%22%3A%20%22abc%22%2C%0A%20%20%20%20%20%20%20%20%22tms%22%3A%20false%0A%7D%29.addTo%28map_9d306267e63844d3a73e9ffdd5c0bc13%29%3B%0A%20%20%20%20var%20tile_layer_2bad5ca914134bd1ac5249e8963f848b%20%3D%20L.tileLayer%28%0A%20%20%20%20%20%20%20%20%27https%3A//earthengine.googleapis.com/v1alpha/projects/earthengine-legacy/maps/0d254403c26a1c40bd94569e5bbc4e58-327a5a15689325f7027632efaefe1145/tiles/%7Bz%7D/%7Bx%7D/%7By%7D%27%2C%0A%20%20%20%20%20%20%20%20%7B%0A%20%20%20%20%20%20%20%20%22attribution%22%3A%20%22Google%20Earth%20Engine%22%2C%0A%20%20%20%20%20%20%20%20%22detectRetina%22%3A%20false%2C%0A%20%20%20%20%20%20%20%20%22maxNativeZoom%22%3A%2018%2C%0A%20%20%20%20%20%20%20%20%22maxZoom%22%3A%2018%2C%0A%20%20%20%20%20%20%20%20%22minZoom%22%3A%200%2C%0A%20%20%20%20%20%20%20%20%22noWrap%22%3A%20false%2C%0A%20%20%20%20%20%20%20%20%22opacity%22%3A%201%2C%0A%20%20%20%20%20%20%20%20%22subdomains%22%3A%20%22abc%22%2C%0A%20%20%20%20%20%20%20%20%22tms%22%3A%20false%0A%7D%29.addTo%28map_9d306267e63844d3a73e9ffdd5c0bc13%29%3B%0A%20%20%20%20var%20tile_layer_2518a6a2b4954c7488de92faa34e813b%20%3D%20L.tileLayer%28%0A%20%20%20%20%20%20%20%20%27https%3A//earthengine.googleapis.com/v1alpha/projects/earthengine-legacy/maps/82f57a391732aea33c2292682fd48daa-52085555f8f16d9c72f98d5066890fdf/tiles/%7Bz%7D/%7Bx%7D/%7By%7D%27%2C%0A%20%20%20%20%20%20%20%20%7B%0A%20%20%20%20%20%20%20%20%22attribution%22%3A%20%22Google%20Earth%20Engine%22%2C%0A%20%20%20%20%20%20%20%20%22detectRetina%22%3A%20false%2C%0A%20%20%20%20%20%20%20%20%22maxNativeZoom%22%3A%2018%2C%0A%20%20%20%20%20%20%20%20%22maxZoom%22%3A%2018%2C%0A%20%20%20%20%20%20%20%20%22minZoom%22%3A%200%2C%0A%20%20%20%20%20%20%20%20%22noWrap%22%3A%20false%2C%0A%20%20%20%20%20%20%20%20%22opacity%22%3A%201%2C%0A%20%20%20%20%20%20%20%20%22subdomains%22%3A%20%22abc%22%2C%0A%20%20%20%20%20%20%20%20%22tms%22%3A%20false%0A%7D%29.addTo%28map_9d306267e63844d3a73e9ffdd5c0bc13%29%3B%0A%20%20%20%20var%20tile_layer_4c369ddba48341f588e67cf2bd585270%20%3D%20L.tileLayer%28%0A%20%20%20%20%20%20%20%20%27https%3A//earthengine.googleapis.com/v1alpha/projects/earthengine-legacy/maps/886848fe7ec6d3d022c7a0e8bb78ad0d-0a653d65c4b7b0cc94a0fc4b43f15027/tiles/%7Bz%7D/%7Bx%7D/%7By%7D%27%2C%0A%20%20%20%20%20%20%20%20%7B%0A%20%20%20%20%20%20%20%20%22attribution%22%3A%20%22Google%20Earth%20Engine%22%2C%0A%20%20%20%20%20%20%20%20%22detectRetina%22%3A%20false%2C%0A%20%20%20%20%20%20%20%20%22maxNativeZoom%22%3A%2018%2C%0A%20%20%20%20%20%20%20%20%22maxZoom%22%3A%2018%2C%0A%20%20%20%20%20%20%20%20%22minZoom%22%3A%200%2C%0A%20%20%20%20%20%20%20%20%22noWrap%22%3A%20false%2C%0A%20%20%20%20%20%20%20%20%22opacity%22%3A%201%2C%0A%20%20%20%20%20%20%20%20%22subdomains%22%3A%20%22abc%22%2C%0A%20%20%20%20%20%20%20%20%22tms%22%3A%20false%0A%7D%29.addTo%28map_9d306267e63844d3a73e9ffdd5c0bc13%29%3B%0A%20%20%20%20var%20tile_layer_666a66f108ee4fe5845ca94d29d1331d%20%3D%20L.tileLayer%28%0A%20%20%20%20%20%20%20%20%27https%3A//earthengine.googleapis.com/v1alpha/projects/earthengine-legacy/maps/0002a8ee11b481c657eebdae31844310-7b856f405bef3a096da64c66a35f5bf5/tiles/%7Bz%7D/%7Bx%7D/%7By%7D%27%2C%0A%20%20%20%20%20%20%20%20%7B%0A%20%20%20%20%20%20%20%20%22attribution%22%3A%20%22Google%20Earth%20Engine%22%2C%0A%20%20%20%20%20%20%20%20%22detectRetina%22%3A%20false%2C%0A%20%20%20%20%20%20%20%20%22maxNativeZoom%22%3A%2018%2C%0A%20%20%20%20%20%20%20%20%22maxZoom%22%3A%2018%2C%0A%20%20%20%20%20%20%20%20%22minZoom%22%3A%200%2C%0A%20%20%20%20%20%20%20%20%22noWrap%22%3A%20false%2C%0A%20%20%20%20%20%20%20%20%22opacity%22%3A%201%2C%0A%20%20%20%20%20%20%20%20%22subdomains%22%3A%20%22abc%22%2C%0A%20%20%20%20%20%20%20%20%22tms%22%3A%20false%0A%7D%29.addTo%28map_9d306267e63844d3a73e9ffdd5c0bc13%29%3B%0A%20%20%20%20var%20tile_layer_471925d11031407a807da14898ecd958%20%3D%20L.tileLayer%28%0A%20%20%20%20%20%20%20%20%27https%3A//earthengine.googleapis.com/v1alpha/projects/earthengine-legacy/maps/d44dbc852e00c3b52c52269fc02dd1fc-2b13999d9b5e73cb547a5e745bba1511/tiles/%7Bz%7D/%7Bx%7D/%7By%7D%27%2C%0A%20%20%20%20%20%20%20%20%7B%0A%20%20%20%20%20%20%20%20%22attribution%22%3A%20%22Google%20Earth%20Engine%22%2C%0A%20%20%20%20%20%20%20%20%22detectRetina%22%3A%20false%2C%0A%20%20%20%20%20%20%20%20%22maxNativeZoom%22%3A%2018%2C%0A%20%20%20%20%20%20%20%20%22maxZoom%22%3A%2018%2C%0A%20%20%20%20%20%20%20%20%22minZoom%22%3A%200%2C%0A%20%20%20%20%20%20%20%20%22noWrap%22%3A%20false%2C%0A%20%20%20%20%20%20%20%20%22opacity%22%3A%201%2C%0A%20%20%20%20%20%20%20%20%22subdomains%22%3A%20%22abc%22%2C%0A%20%20%20%20%20%20%20%20%22tms%22%3A%20false%0A%7D%29.addTo%28map_9d306267e63844d3a73e9ffdd5c0bc13%29%3B%0A%20%20%20%20var%20tile_layer_41ddecff4b844b2b887100b3af93414f%20%3D%20L.tileLayer%28%0A%20%20%20%20%20%20%20%20%27https%3A//earthengine.googleapis.com/v1alpha/projects/earthengine-legacy/maps/eff0095de04491ec4d7b9968f3e6fd54-483685beddfec5803fc3374b93a9d413/tiles/%7Bz%7D/%7Bx%7D/%7By%7D%27%2C%0A%20%20%20%20%20%20%20%20%7B%0A%20%20%20%20%20%20%20%20%22attribution%22%3A%20%22Google%20Earth%20Engine%22%2C%0A%20%20%20%20%20%20%20%20%22detectRetina%22%3A%20false%2C%0A%20%20%20%20%20%20%20%20%22maxNativeZoom%22%3A%2018%2C%0A%20%20%20%20%20%20%20%20%22maxZoom%22%3A%2018%2C%0A%20%20%20%20%20%20%20%20%22minZoom%22%3A%200%2C%0A%20%20%20%20%20%20%20%20%22noWrap%22%3A%20false%2C%0A%20%20%20%20%20%20%20%20%22opacity%22%3A%201%2C%0A%20%20%20%20%20%20%20%20%22subdomains%22%3A%20%22abc%22%2C%0A%20%20%20%20%20%20%20%20%22tms%22%3A%20false%0A%7D%29.addTo%28map_9d306267e63844d3a73e9ffdd5c0bc13%29%3B%0A%20%20%20%20%0A%20%20%20%20%20%20%20%20%20%20%20%20var%20layer_control_1458dcf4df7944778e3bcce2b5a059bf%20%3D%20%7B%0A%20%20%20%20%20%20%20%20%20%20%20%20%20%20%20%20base_layers%20%3A%20%7B%20%22openstreetmap%22%20%3A%20tile_layer_51738eca094b4a78924764f93c7a7aaa%2C%20%7D%2C%0A%20%20%20%20%20%20%20%20%20%20%20%20%20%20%20%20overlays%20%3A%20%7B%20%22NDVI%202014%22%20%3A%20tile_layer_1e2119bc08194d048913016846962a9b%2C%22NDVI%202015%22%20%3A%20tile_layer_2bad5ca914134bd1ac5249e8963f848b%2C%22NDVI%202016%22%20%3A%20tile_layer_2518a6a2b4954c7488de92faa34e813b%2C%22NDVI%202017%22%20%3A%20tile_layer_4c369ddba48341f588e67cf2bd585270%2C%22NDVI%202018%22%20%3A%20tile_layer_666a66f108ee4fe5845ca94d29d1331d%2C%22NDVI%202019%22%20%3A%20tile_layer_471925d11031407a807da14898ecd958%2C%22NDVI%202020%22%20%3A%20tile_layer_41ddecff4b844b2b887100b3af93414f%2C%20%7D%0A%20%20%20%20%20%20%20%20%20%20%20%20%20%20%20%20%7D%3B%0A%20%20%20%20%20%20%20%20%20%20%20%20L.control.layers%28%0A%20%20%20%20%20%20%20%20%20%20%20%20%20%20%20%20layer_control_1458dcf4df7944778e3bcce2b5a059bf.base_layers%2C%0A%20%20%20%20%20%20%20%20%20%20%20%20%20%20%20%20layer_control_1458dcf4df7944778e3bcce2b5a059bf.overlays%2C%0A%20%20%20%20%20%20%20%20%20%20%20%20%20%20%20%20%7Bposition%3A%20%27topright%27%2C%0A%20%20%20%20%20%20%20%20%20%20%20%20%20%20%20%20%20collapsed%3A%20true%2C%0A%20%20%20%20%20%20%20%20%20%20%20%20%20%20%20%20%20autoZIndex%3A%20true%0A%20%20%20%20%20%20%20%20%20%20%20%20%20%20%20%20%7D%29.addTo%28map_9d306267e63844d3a73e9ffdd5c0bc13%29%3B%0A%20%20%20%20%20%20%20%20%20%20%20%20%0A%20%20%20%20%20%20%20%20%0A%3C/script%3E onload=\"this.contentDocument.open();this.contentDocument.write(    decodeURIComponent(this.getAttribute('data-html')));this.contentDocument.close();\" allowfullscreen webkitallowfullscreen mozallowfullscreen></iframe></div></div>"
            ],
            "text/plain": [
              "<folium.folium.Map at 0x7f4288daaf50>"
            ]
          },
          "metadata": {}
        }
      ]
    },
    {
      "cell_type": "code",
      "metadata": {
        "id": "KqwbxtWorfg0"
      },
      "source": [
        "y2014 = yearly_composite.filterDate('2014-01-01','2014-12-31').first().clip(aoi).updateMask(elv_mask)\n",
        "y2015 = yearly_composite.filterDate('2015-01-01','2015-12-31').first().clip(aoi).updateMask(elv_mask)\n",
        "y2016 = yearly_composite.filterDate('2016-01-01','2016-12-31').first().clip(aoi).updateMask(elv_mask)\n",
        "y2017 = yearly_composite.filterDate('2017-01-01','2017-12-31').first().clip(aoi).updateMask(elv_mask)\n",
        "y2018 = yearly_composite.filterDate('2018-01-01','2018-12-31').first().clip(aoi).updateMask(elv_mask)\n",
        "y2019 = yearly_composite.filterDate('2019-01-01','2019-12-31').first().clip(aoi).updateMask(elv_mask)\n",
        "y2020 = yearly_composite.filterDate('2020-01-01','2020-12-31').first().clip(aoi).updateMask(elv_mask)\n",
        "#y2021 = ndvi_collection.filterDate('2021-01-01','2021-12-31').first().clip(aoi).updateMask(elv_mask)\n",
        "\n",
        "\n",
        "my_map_5 = folium.Map(zoom_start=3)"
      ],
      "execution_count": 54,
      "outputs": []
    },
    {
      "cell_type": "code",
      "metadata": {
        "colab": {
          "base_uri": "https://localhost:8080/",
          "height": 763
        },
        "id": "_gkSrMb9rfZZ",
        "outputId": "5d8d6517-e18f-4ead-f93c-e4df4e40c770"
      },
      "source": [
        "viz_params = {\n",
        "    'bands': ['B7', 'B5', 'B2'],\n",
        "    'min': 0,\n",
        "    'max': 0.5,\n",
        "    'gamma': [0.95, 1.1, 1]\n",
        "}\n",
        "\n",
        "# Define a map centered on San Francisco Bay.\n",
        "map_5 = folium.Map(zoom_start=5)\n",
        "\n",
        "# Add the image layer to the map and display it.\n",
        "map_5.add_ee_layer(y2020, viz_params, 'false color composite')\n",
        "display(map_5)"
      ],
      "execution_count": 55,
      "outputs": [
        {
          "output_type": "display_data",
          "data": {
            "text/html": [
              "<div style=\"width:100%;\"><div style=\"position:relative;width:100%;height:0;padding-bottom:60%;\"><span style=\"color:#565656\">Make this Notebook Trusted to load map: File -> Trust Notebook</span><iframe src=\"about:blank\" style=\"position:absolute;width:100%;height:100%;left:0;top:0;border:none !important;\" data-html=%3C%21DOCTYPE%20html%3E%0A%3Chead%3E%20%20%20%20%0A%20%20%20%20%3Cmeta%20http-equiv%3D%22content-type%22%20content%3D%22text/html%3B%20charset%3DUTF-8%22%20/%3E%0A%20%20%20%20%3Cscript%3EL_PREFER_CANVAS%3Dfalse%3B%20L_NO_TOUCH%3Dfalse%3B%20L_DISABLE_3D%3Dfalse%3B%3C/script%3E%0A%20%20%20%20%3Cscript%20src%3D%22https%3A//cdn.jsdelivr.net/npm/leaflet%401.4.0/dist/leaflet.js%22%3E%3C/script%3E%0A%20%20%20%20%3Cscript%20src%3D%22https%3A//code.jquery.com/jquery-1.12.4.min.js%22%3E%3C/script%3E%0A%20%20%20%20%3Cscript%20src%3D%22https%3A//maxcdn.bootstrapcdn.com/bootstrap/3.2.0/js/bootstrap.min.js%22%3E%3C/script%3E%0A%20%20%20%20%3Cscript%20src%3D%22https%3A//cdnjs.cloudflare.com/ajax/libs/Leaflet.awesome-markers/2.0.2/leaflet.awesome-markers.js%22%3E%3C/script%3E%0A%20%20%20%20%3Clink%20rel%3D%22stylesheet%22%20href%3D%22https%3A//cdn.jsdelivr.net/npm/leaflet%401.4.0/dist/leaflet.css%22/%3E%0A%20%20%20%20%3Clink%20rel%3D%22stylesheet%22%20href%3D%22https%3A//maxcdn.bootstrapcdn.com/bootstrap/3.2.0/css/bootstrap.min.css%22/%3E%0A%20%20%20%20%3Clink%20rel%3D%22stylesheet%22%20href%3D%22https%3A//maxcdn.bootstrapcdn.com/bootstrap/3.2.0/css/bootstrap-theme.min.css%22/%3E%0A%20%20%20%20%3Clink%20rel%3D%22stylesheet%22%20href%3D%22https%3A//maxcdn.bootstrapcdn.com/font-awesome/4.6.3/css/font-awesome.min.css%22/%3E%0A%20%20%20%20%3Clink%20rel%3D%22stylesheet%22%20href%3D%22https%3A//cdnjs.cloudflare.com/ajax/libs/Leaflet.awesome-markers/2.0.2/leaflet.awesome-markers.css%22/%3E%0A%20%20%20%20%3Clink%20rel%3D%22stylesheet%22%20href%3D%22https%3A//rawcdn.githack.com/python-visualization/folium/master/folium/templates/leaflet.awesome.rotate.css%22/%3E%0A%20%20%20%20%3Cstyle%3Ehtml%2C%20body%20%7Bwidth%3A%20100%25%3Bheight%3A%20100%25%3Bmargin%3A%200%3Bpadding%3A%200%3B%7D%3C/style%3E%0A%20%20%20%20%3Cstyle%3E%23map%20%7Bposition%3Aabsolute%3Btop%3A0%3Bbottom%3A0%3Bright%3A0%3Bleft%3A0%3B%7D%3C/style%3E%0A%20%20%20%20%0A%20%20%20%20%3Cmeta%20name%3D%22viewport%22%20content%3D%22width%3Ddevice-width%2C%0A%20%20%20%20%20%20%20%20initial-scale%3D1.0%2C%20maximum-scale%3D1.0%2C%20user-scalable%3Dno%22%20/%3E%0A%20%20%20%20%3Cstyle%3E%23map_c162007c14a24274b439c18a916d27c6%20%7B%0A%20%20%20%20%20%20%20%20position%3A%20relative%3B%0A%20%20%20%20%20%20%20%20width%3A%20100.0%25%3B%0A%20%20%20%20%20%20%20%20height%3A%20100.0%25%3B%0A%20%20%20%20%20%20%20%20left%3A%200.0%25%3B%0A%20%20%20%20%20%20%20%20top%3A%200.0%25%3B%0A%20%20%20%20%20%20%20%20%7D%0A%20%20%20%20%3C/style%3E%0A%3C/head%3E%0A%3Cbody%3E%20%20%20%20%0A%20%20%20%20%0A%20%20%20%20%3Cdiv%20class%3D%22folium-map%22%20id%3D%22map_c162007c14a24274b439c18a916d27c6%22%20%3E%3C/div%3E%0A%3C/body%3E%0A%3Cscript%3E%20%20%20%20%0A%20%20%20%20%0A%20%20%20%20%0A%20%20%20%20%20%20%20%20var%20bounds%20%3D%20null%3B%0A%20%20%20%20%0A%0A%20%20%20%20var%20map_c162007c14a24274b439c18a916d27c6%20%3D%20L.map%28%0A%20%20%20%20%20%20%20%20%27map_c162007c14a24274b439c18a916d27c6%27%2C%20%7B%0A%20%20%20%20%20%20%20%20center%3A%20%5B0%2C%200%5D%2C%0A%20%20%20%20%20%20%20%20zoom%3A%201%2C%0A%20%20%20%20%20%20%20%20maxBounds%3A%20bounds%2C%0A%20%20%20%20%20%20%20%20layers%3A%20%5B%5D%2C%0A%20%20%20%20%20%20%20%20worldCopyJump%3A%20false%2C%0A%20%20%20%20%20%20%20%20crs%3A%20L.CRS.EPSG3857%2C%0A%20%20%20%20%20%20%20%20zoomControl%3A%20true%2C%0A%20%20%20%20%20%20%20%20%7D%29%3B%0A%0A%0A%20%20%20%20%0A%20%20%20%20var%20tile_layer_c4dd01d285664de49a4624b47bdf9bf8%20%3D%20L.tileLayer%28%0A%20%20%20%20%20%20%20%20%27https%3A//%7Bs%7D.tile.openstreetmap.org/%7Bz%7D/%7Bx%7D/%7By%7D.png%27%2C%0A%20%20%20%20%20%20%20%20%7B%0A%20%20%20%20%20%20%20%20%22attribution%22%3A%20null%2C%0A%20%20%20%20%20%20%20%20%22detectRetina%22%3A%20false%2C%0A%20%20%20%20%20%20%20%20%22maxNativeZoom%22%3A%2018%2C%0A%20%20%20%20%20%20%20%20%22maxZoom%22%3A%2018%2C%0A%20%20%20%20%20%20%20%20%22minZoom%22%3A%200%2C%0A%20%20%20%20%20%20%20%20%22noWrap%22%3A%20false%2C%0A%20%20%20%20%20%20%20%20%22opacity%22%3A%201%2C%0A%20%20%20%20%20%20%20%20%22subdomains%22%3A%20%22abc%22%2C%0A%20%20%20%20%20%20%20%20%22tms%22%3A%20false%0A%7D%29.addTo%28map_c162007c14a24274b439c18a916d27c6%29%3B%0A%20%20%20%20var%20tile_layer_6f062153cae24434a146168aa1d14e19%20%3D%20L.tileLayer%28%0A%20%20%20%20%20%20%20%20%27https%3A//earthengine.googleapis.com/v1alpha/projects/earthengine-legacy/maps/d80dfcd42ef432f834f0ad05e31a18f0-b4deb59b0d17367a826ba4ca294a4bcd/tiles/%7Bz%7D/%7Bx%7D/%7By%7D%27%2C%0A%20%20%20%20%20%20%20%20%7B%0A%20%20%20%20%20%20%20%20%22attribution%22%3A%20%22Google%20Earth%20Engine%22%2C%0A%20%20%20%20%20%20%20%20%22detectRetina%22%3A%20false%2C%0A%20%20%20%20%20%20%20%20%22maxNativeZoom%22%3A%2018%2C%0A%20%20%20%20%20%20%20%20%22maxZoom%22%3A%2018%2C%0A%20%20%20%20%20%20%20%20%22minZoom%22%3A%200%2C%0A%20%20%20%20%20%20%20%20%22noWrap%22%3A%20false%2C%0A%20%20%20%20%20%20%20%20%22opacity%22%3A%201%2C%0A%20%20%20%20%20%20%20%20%22subdomains%22%3A%20%22abc%22%2C%0A%20%20%20%20%20%20%20%20%22tms%22%3A%20false%0A%7D%29.addTo%28map_c162007c14a24274b439c18a916d27c6%29%3B%0A%3C/script%3E onload=\"this.contentDocument.open();this.contentDocument.write(    decodeURIComponent(this.getAttribute('data-html')));this.contentDocument.close();\" allowfullscreen webkitallowfullscreen mozallowfullscreen></iframe></div></div>"
            ],
            "text/plain": [
              "<folium.folium.Map at 0x7f4288da89d0>"
            ]
          },
          "metadata": {}
        }
      ]
    }
  ]
}